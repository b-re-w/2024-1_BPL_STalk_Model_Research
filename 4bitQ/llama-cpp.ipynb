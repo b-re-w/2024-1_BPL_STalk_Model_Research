{
 "cells": [
  {
   "metadata": {},
   "cell_type": "markdown",
   "source": [
    "# Llama3 Quantization\n",
    "\n",
    "[Llama3 Quantization](https://www.reddit.com/r/LocalLLaMA/comments/1cci5w6/quantizing_llama_3_8b_seems_more_harmful_compared/)\n",
    "[How Good Are Low-bit Quantized LLaMA3 Models?](\"https://arxiv.org/abs/2404.14047v1\")\n",
    "\n",
    "[llama-cpp-python](\"https://github.com/abetlen/llama-cpp-python\")"
   ],
   "id": "92596174f2f34fb1"
  },
  {
   "metadata": {
    "ExecuteTime": {
     "end_time": "2024-05-25T15:10:02.487843Z",
     "start_time": "2024-05-25T15:09:48.384624Z"
    }
   },
   "cell_type": "code",
   "source": "!pip install llama-cpp-python --extra-index-url https://abetlen.github.io/llama-cpp-python/whl/cu121",
   "id": "db55bfef1aa58740",
   "outputs": [
    {
     "name": "stdout",
     "output_type": "stream",
     "text": [
      "Looking in indexes: https://pypi.org/simple, https://abetlen.github.io/llama-cpp-python/whl/cu121\n",
      "Collecting llama-cpp-python\n",
      "  Downloading https://github.com/abetlen/llama-cpp-python/releases/download/v0.2.76-cu121/llama_cpp_python-0.2.76-cp311-cp311-win_amd64.whl (201.3 MB)\n",
      "     ---------------------------------------- 0.0/201.3 MB ? eta -:--:--\n",
      "     -------------------------------------- 0.0/201.3 MB 660.6 kB/s eta 0:05:05\n",
      "     ---------------------------------------- 0.3/201.3 MB 3.5 MB/s eta 0:00:57\n",
      "     --------------------------------------- 1.5/201.3 MB 11.6 MB/s eta 0:00:18\n",
      "     --------------------------------------- 2.6/201.3 MB 14.9 MB/s eta 0:00:14\n",
      "      -------------------------------------- 4.0/201.3 MB 18.4 MB/s eta 0:00:11\n",
      "     - ------------------------------------- 5.7/201.3 MB 21.2 MB/s eta 0:00:10\n",
      "     - ------------------------------------- 7.3/201.3 MB 23.5 MB/s eta 0:00:09\n",
      "     - ------------------------------------- 8.9/201.3 MB 24.8 MB/s eta 0:00:08\n",
      "     - ------------------------------------ 10.2/201.3 MB 25.0 MB/s eta 0:00:08\n",
      "     -- ----------------------------------- 11.8/201.3 MB 31.2 MB/s eta 0:00:07\n",
      "     -- ----------------------------------- 13.4/201.3 MB 32.7 MB/s eta 0:00:06\n",
      "     -- ----------------------------------- 15.1/201.3 MB 32.7 MB/s eta 0:00:06\n",
      "     --- ---------------------------------- 16.8/201.3 MB 34.4 MB/s eta 0:00:06\n",
      "     --- ---------------------------------- 18.4/201.3 MB 32.7 MB/s eta 0:00:06\n",
      "     --- ---------------------------------- 19.6/201.3 MB 34.4 MB/s eta 0:00:06\n",
      "     ---- --------------------------------- 21.3/201.3 MB 34.4 MB/s eta 0:00:06\n",
      "     ---- --------------------------------- 23.0/201.3 MB 32.8 MB/s eta 0:00:06\n",
      "     ---- --------------------------------- 24.7/201.3 MB 34.4 MB/s eta 0:00:06\n",
      "     ---- --------------------------------- 26.2/201.3 MB 32.7 MB/s eta 0:00:06\n",
      "     ----- -------------------------------- 27.6/201.3 MB 34.4 MB/s eta 0:00:06\n",
      "     ----- -------------------------------- 29.1/201.3 MB 34.4 MB/s eta 0:00:05\n",
      "     ----- -------------------------------- 30.5/201.3 MB 34.4 MB/s eta 0:00:05\n",
      "     ------ ------------------------------- 32.1/201.3 MB 34.4 MB/s eta 0:00:05\n",
      "     ------ ------------------------------- 33.6/201.3 MB 32.7 MB/s eta 0:00:06\n",
      "     ------ ------------------------------- 35.2/201.3 MB 32.7 MB/s eta 0:00:06\n",
      "     ------ ------------------------------- 36.5/201.3 MB 32.8 MB/s eta 0:00:06\n",
      "     ------- ------------------------------ 38.3/201.3 MB 34.4 MB/s eta 0:00:05\n",
      "     ------- ------------------------------ 39.7/201.3 MB 32.8 MB/s eta 0:00:05\n",
      "     ------- ------------------------------ 41.0/201.3 MB 34.6 MB/s eta 0:00:05\n",
      "     ------- ------------------------------ 42.3/201.3 MB 31.2 MB/s eta 0:00:06\n",
      "     -------- ----------------------------- 43.6/201.3 MB 31.2 MB/s eta 0:00:06\n",
      "     -------- ----------------------------- 45.4/201.3 MB 31.2 MB/s eta 0:00:05\n",
      "     -------- ----------------------------- 47.2/201.3 MB 32.7 MB/s eta 0:00:05\n",
      "     --------- ---------------------------- 48.7/201.3 MB 31.2 MB/s eta 0:00:05\n",
      "     --------- ---------------------------- 50.3/201.3 MB 32.8 MB/s eta 0:00:05\n",
      "     --------- ---------------------------- 51.7/201.3 MB 34.4 MB/s eta 0:00:05\n",
      "     ---------- --------------------------- 53.2/201.3 MB 32.8 MB/s eta 0:00:05\n",
      "     ---------- --------------------------- 54.5/201.3 MB 32.7 MB/s eta 0:00:05\n",
      "     ---------- --------------------------- 56.2/201.3 MB 32.7 MB/s eta 0:00:05\n",
      "     ---------- --------------------------- 57.9/201.3 MB 32.7 MB/s eta 0:00:05\n",
      "     ----------- -------------------------- 59.6/201.3 MB 34.4 MB/s eta 0:00:05\n",
      "     ----------- -------------------------- 61.3/201.3 MB 34.4 MB/s eta 0:00:05\n",
      "     ----------- -------------------------- 63.1/201.3 MB 36.3 MB/s eta 0:00:04\n",
      "     ------------ ------------------------- 64.9/201.3 MB 38.5 MB/s eta 0:00:04\n",
      "     ------------ ------------------------- 66.3/201.3 MB 36.4 MB/s eta 0:00:04\n",
      "     ------------ ------------------------- 67.8/201.3 MB 36.4 MB/s eta 0:00:04\n",
      "     ------------- ------------------------ 69.5/201.3 MB 36.4 MB/s eta 0:00:04\n",
      "     ------------- ------------------------ 71.2/201.3 MB 36.4 MB/s eta 0:00:04\n",
      "     ------------- ------------------------ 73.0/201.3 MB 36.4 MB/s eta 0:00:04\n",
      "     -------------- ----------------------- 74.8/201.3 MB 36.4 MB/s eta 0:00:04\n",
      "     -------------- ----------------------- 75.9/201.3 MB 34.4 MB/s eta 0:00:04\n",
      "     -------------- ----------------------- 77.5/201.3 MB 34.4 MB/s eta 0:00:04\n",
      "     -------------- ----------------------- 79.1/201.3 MB 34.6 MB/s eta 0:00:04\n",
      "     --------------- ---------------------- 81.0/201.3 MB 36.4 MB/s eta 0:00:04\n",
      "     --------------- ---------------------- 82.8/201.3 MB 36.4 MB/s eta 0:00:04\n",
      "     --------------- ---------------------- 83.8/201.3 MB 34.6 MB/s eta 0:00:04\n",
      "     ---------------- --------------------- 85.2/201.3 MB 31.2 MB/s eta 0:00:04\n",
      "     ---------------- --------------------- 85.7/201.3 MB 32.7 MB/s eta 0:00:04\n",
      "     ---------------- --------------------- 87.4/201.3 MB 31.2 MB/s eta 0:00:04\n",
      "     ---------------- --------------------- 88.4/201.3 MB 29.7 MB/s eta 0:00:04\n",
      "     ----------------- -------------------- 90.2/201.3 MB 28.5 MB/s eta 0:00:04\n",
      "     ----------------- -------------------- 91.7/201.3 MB 28.5 MB/s eta 0:00:04\n",
      "     ----------------- -------------------- 93.3/201.3 MB 28.5 MB/s eta 0:00:04\n",
      "     ----------------- -------------------- 95.0/201.3 MB 29.7 MB/s eta 0:00:04\n",
      "     ------------------ ------------------- 96.5/201.3 MB 34.4 MB/s eta 0:00:04\n",
      "     ------------------ ------------------- 98.4/201.3 MB 36.4 MB/s eta 0:00:03\n",
      "     ------------------ ------------------ 100.1/201.3 MB 36.4 MB/s eta 0:00:03\n",
      "     ------------------ ------------------ 100.8/201.3 MB 36.4 MB/s eta 0:00:03\n",
      "     ------------------ ------------------ 101.0/201.3 MB 29.7 MB/s eta 0:00:04\n",
      "     ------------------ ------------------ 102.2/201.3 MB 29.7 MB/s eta 0:00:04\n",
      "     ------------------- ----------------- 104.0/201.3 MB 28.4 MB/s eta 0:00:04\n",
      "     ------------------- ----------------- 105.3/201.3 MB 28.5 MB/s eta 0:00:04\n",
      "     ------------------- ----------------- 107.2/201.3 MB 28.5 MB/s eta 0:00:04\n",
      "     -------------------- ---------------- 109.0/201.3 MB 28.5 MB/s eta 0:00:04\n",
      "     -------------------- ---------------- 110.5/201.3 MB 28.5 MB/s eta 0:00:04\n",
      "     -------------------- ---------------- 112.1/201.3 MB 36.4 MB/s eta 0:00:03\n",
      "     -------------------- ---------------- 114.1/201.3 MB 36.4 MB/s eta 0:00:03\n",
      "     --------------------- --------------- 115.9/201.3 MB 36.3 MB/s eta 0:00:03\n",
      "     --------------------- --------------- 118.0/201.3 MB 38.5 MB/s eta 0:00:03\n",
      "     ---------------------- -------------- 119.8/201.3 MB 40.9 MB/s eta 0:00:02\n",
      "     ---------------------- -------------- 121.7/201.3 MB 40.9 MB/s eta 0:00:02\n",
      "     ---------------------- -------------- 123.6/201.3 MB 40.9 MB/s eta 0:00:02\n",
      "     ----------------------- ------------- 125.7/201.3 MB 40.9 MB/s eta 0:00:02\n",
      "     ----------------------- ------------- 127.7/201.3 MB 43.7 MB/s eta 0:00:02\n",
      "     ----------------------- ------------- 129.8/201.3 MB 40.9 MB/s eta 0:00:02\n",
      "     ------------------------ ------------ 131.7/201.3 MB 43.5 MB/s eta 0:00:02\n",
      "     ------------------------ ------------ 133.7/201.3 MB 43.7 MB/s eta 0:00:02\n",
      "     ------------------------ ------------ 135.5/201.3 MB 43.5 MB/s eta 0:00:02\n",
      "     ------------------------- ----------- 137.4/201.3 MB 43.5 MB/s eta 0:00:02\n",
      "     ------------------------- ----------- 139.0/201.3 MB 40.9 MB/s eta 0:00:02\n",
      "     ------------------------- ----------- 140.9/201.3 MB 40.9 MB/s eta 0:00:02\n",
      "     -------------------------- ---------- 143.0/201.3 MB 40.9 MB/s eta 0:00:02\n",
      "     -------------------------- ---------- 145.1/201.3 MB 40.9 MB/s eta 0:00:02\n",
      "     -------------------------- ---------- 146.4/201.3 MB 38.5 MB/s eta 0:00:02\n",
      "     --------------------------- --------- 148.0/201.3 MB 38.5 MB/s eta 0:00:02\n",
      "     --------------------------- --------- 149.7/201.3 MB 38.5 MB/s eta 0:00:02\n",
      "     --------------------------- --------- 151.6/201.3 MB 38.5 MB/s eta 0:00:02\n",
      "     ---------------------------- -------- 153.2/201.3 MB 36.3 MB/s eta 0:00:02\n",
      "     ---------------------------- -------- 155.3/201.3 MB 36.4 MB/s eta 0:00:02\n",
      "     ---------------------------- -------- 157.3/201.3 MB 40.9 MB/s eta 0:00:02\n",
      "     ----------------------------- ------- 159.4/201.3 MB 40.9 MB/s eta 0:00:02\n",
      "     ----------------------------- ------- 161.5/201.3 MB 43.7 MB/s eta 0:00:01\n",
      "     ------------------------------ ------ 163.6/201.3 MB 43.7 MB/s eta 0:00:01\n",
      "     ------------------------------ ------ 165.7/201.3 MB 43.5 MB/s eta 0:00:01\n",
      "     ------------------------------ ------ 167.4/201.3 MB 43.5 MB/s eta 0:00:01\n",
      "     ------------------------------- ----- 169.4/201.3 MB 43.5 MB/s eta 0:00:01\n",
      "     ------------------------------- ----- 170.8/201.3 MB 43.5 MB/s eta 0:00:01\n",
      "     ------------------------------- ----- 172.9/201.3 MB 38.6 MB/s eta 0:00:01\n",
      "     -------------------------------- ---- 175.0/201.3 MB 40.9 MB/s eta 0:00:01\n",
      "     -------------------------------- ---- 176.3/201.3 MB 38.5 MB/s eta 0:00:01\n",
      "     -------------------------------- ---- 178.2/201.3 MB 38.5 MB/s eta 0:00:01\n",
      "     --------------------------------- --- 180.1/201.3 MB 38.5 MB/s eta 0:00:01\n",
      "     --------------------------------- --- 181.8/201.3 MB 38.5 MB/s eta 0:00:01\n",
      "     --------------------------------- --- 183.8/201.3 MB 38.5 MB/s eta 0:00:01\n",
      "     ---------------------------------- -- 185.7/201.3 MB 38.6 MB/s eta 0:00:01\n",
      "     ---------------------------------- -- 187.8/201.3 MB 43.5 MB/s eta 0:00:01\n",
      "     ---------------------------------- -- 189.8/201.3 MB 43.5 MB/s eta 0:00:01\n",
      "     ----------------------------------- - 191.7/201.3 MB 43.7 MB/s eta 0:00:01\n",
      "     ----------------------------------- - 192.6/201.3 MB 40.9 MB/s eta 0:00:01\n",
      "     ----------------------------------- - 194.2/201.3 MB 38.6 MB/s eta 0:00:01\n",
      "     ----------------------------------- - 195.2/201.3 MB 34.4 MB/s eta 0:00:01\n",
      "     ------------------------------------  196.5/201.3 MB 32.7 MB/s eta 0:00:01\n",
      "     ------------------------------------  197.7/201.3 MB 31.2 MB/s eta 0:00:01\n",
      "     ------------------------------------  198.9/201.3 MB 29.7 MB/s eta 0:00:01\n",
      "     ------------------------------------  199.8/201.3 MB 27.3 MB/s eta 0:00:01\n",
      "     ------------------------------------  201.1/201.3 MB 26.2 MB/s eta 0:00:01\n",
      "     ------------------------------------  201.3/201.3 MB 26.2 MB/s eta 0:00:01\n",
      "     ------------------------------------  201.3/201.3 MB 26.2 MB/s eta 0:00:01\n",
      "     ------------------------------------  201.3/201.3 MB 26.2 MB/s eta 0:00:01\n",
      "     ------------------------------------  201.3/201.3 MB 26.2 MB/s eta 0:00:01\n",
      "     ------------------------------------- 201.3/201.3 MB 16.4 MB/s eta 0:00:00\n",
      "Requirement already satisfied: typing-extensions>=4.5.0 in c:\\users\\irack\\appdata\\local\\pypoetry\\cache\\virtualenvs\\4bitq-5grlrxl_-py3.11\\lib\\site-packages (from llama-cpp-python) (4.11.0)\n",
      "Requirement already satisfied: numpy>=1.20.0 in c:\\users\\irack\\appdata\\local\\pypoetry\\cache\\virtualenvs\\4bitq-5grlrxl_-py3.11\\lib\\site-packages (from llama-cpp-python) (1.26.4)\n",
      "Requirement already satisfied: diskcache>=5.6.1 in c:\\users\\irack\\appdata\\local\\pypoetry\\cache\\virtualenvs\\4bitq-5grlrxl_-py3.11\\lib\\site-packages (from llama-cpp-python) (5.6.3)\n",
      "Requirement already satisfied: jinja2>=2.11.3 in c:\\users\\irack\\appdata\\local\\pypoetry\\cache\\virtualenvs\\4bitq-5grlrxl_-py3.11\\lib\\site-packages (from llama-cpp-python) (3.1.4)\n",
      "Requirement already satisfied: MarkupSafe>=2.0 in c:\\users\\irack\\appdata\\local\\pypoetry\\cache\\virtualenvs\\4bitq-5grlrxl_-py3.11\\lib\\site-packages (from jinja2>=2.11.3->llama-cpp-python) (2.1.5)\n",
      "Installing collected packages: llama-cpp-python\n",
      "Successfully installed llama-cpp-python-0.2.76\n"
     ]
    }
   ],
   "execution_count": 1
  },
  {
   "metadata": {
    "ExecuteTime": {
     "end_time": "2024-05-25T15:36:04.504121Z",
     "start_time": "2024-05-25T15:36:04.286840Z"
    }
   },
   "cell_type": "code",
   "source": "from llama_cpp import Llama",
   "id": "77675a91af37a24b",
   "outputs": [],
   "execution_count": 1
  },
  {
   "cell_type": "code",
   "id": "initial_id",
   "metadata": {
    "collapsed": true,
    "ExecuteTime": {
     "end_time": "2024-05-25T16:14:38.681428Z",
     "start_time": "2024-05-25T16:14:36.687776Z"
    }
   },
   "source": [
    "model_id = \"lmstudio-community/Meta-Llama-3-8B-Instruct-GGUF\"\n",
    "\n",
    "llm = Llama.from_pretrained(\n",
    "    repo_id=model_id,\n",
    "    filename=\"*Q4_K_M.gguf\",\n",
    "    #chat_format=\"llama-3\",\n",
    "    verbose=False\n",
    ")"
   ],
   "outputs": [],
   "execution_count": 25
  },
  {
   "metadata": {},
   "cell_type": "markdown",
   "source": "## Chat Recommendation Example",
   "id": "e4a88611db0ef75f"
  },
  {
   "metadata": {
    "ExecuteTime": {
     "end_time": "2024-05-25T16:36:40.920848Z",
     "start_time": "2024-05-25T16:36:40.913563Z"
    }
   },
   "cell_type": "code",
   "source": [
    "{\n",
    "    \"topic\": \"Family Bonding Activities\",\n",
    "    \"interests\": [\"Sports\", \"Family\", \"Bonding\"],\n",
    "    \"next_question\": \"저는 최근에 가족들과 함께하는 새로운 활동을 찾고 있습니다. 혹시 B님은 가족들과 함께하는 다른 활동을 추천해주실 수 있나요?\",\n",
    "    \"follow_up\": \"예를 들어, 등산이나 캠핑 등 야외 활동을 함께 하시나요?\"\n",
    "}"
   ],
   "id": "5f98ec254e0ee971",
   "outputs": [
    {
     "data": {
      "text/plain": [
       "{'topic': 'Family Bonding Activities',\n",
       " 'interests': ['Sports', 'Family', 'Bonding'],\n",
       " 'next_question': '저는 최근에 가족들과 함께하는 새로운 활동을 찾고 있습니다. 혹시 B님은 가족들과 함께하는 다른 활동을 추천해주실 수 있나요?',\n",
       " 'follow_up': '예를 들어, 등산이나 캠핑 등 야외 활동을 함께 하시나요?'}"
      ]
     },
     "execution_count": 31,
     "metadata": {},
     "output_type": "execute_result"
    }
   ],
   "execution_count": 31
  },
  {
   "metadata": {},
   "cell_type": "markdown",
   "source": "## Chat History Preset",
   "id": "692c3a88340d9cdd"
  },
  {
   "metadata": {},
   "cell_type": "code",
   "outputs": [],
   "execution_count": 27,
   "source": [
    "class ChatPresets:\n",
    "    @staticmethod\n",
    "    def family_and_job(system=\"\"):\n",
    "        return [\n",
    "            {\n",
    "                \"role\": \"system\",\n",
    "                \"content\": system\n",
    "            },\n",
    "            {\n",
    "                \"role\": \"A\",\n",
    "                \"content\": \"요즘 가족들이 잘 지내고 계신가요?\"\n",
    "            },\n",
    "            {\n",
    "                \"role\": \"B\",\n",
    "                \"content\": \"네, 가족들은 다 잘 지내고 있어요. 그런데 최근에는 취업 문제로 걱정이 좀 되네요.\"\n",
    "            },\n",
    "            {\n",
    "                \"role\": \"A\",\n",
    "                \"content\": \"취업 문제로 걱정이 되시나봐요. 어떤 일이 있으신 거죠?\"\n",
    "            },\n",
    "            {\n",
    "                \"role\": \"B\",\n",
    "                \"content\": \"제가 원하는 분야에서 일자리를 찾는 게 쉽지 않아서 좀 고민이 되요.\"\n",
    "            },\n",
    "            {\n",
    "                \"role\": \"A\",\n",
    "                \"content\": \"취업은 정말 어려운 문제죠. 어떤 분야에 지원하시나요?\"\n",
    "            },\n",
    "            {\n",
    "                \"role\": \"B\",\n",
    "                \"content\": \"저는 IT 분야에 관심이 많아서 그쪽에서 일을 찾고 있어요. 현재는 노력 중이에요.\"\n",
    "            }\n",
    "        ]\n",
    "    \n",
    "    @staticmethod\n",
    "    def family(system=\"\"):\n",
    "        return \"\"\"\n",
    "A: 요즘 가족들이 잘 지내고 계신가요?\n",
    "\n",
    "B: 네, 가족들은 다 잘 지내고 있어요.\n",
    "\n",
    "A: 저는 아이들과 스포츠를 즐기는걸 좋아해요. 어떤 종류의 스포츠를 함께 하시나요?\n",
    "\n",
    "B: 주로 축구와 테니스를 함께 하고 있어요. 아이들이 적극적으로 참여하면서 즐거운 시간을 보내고 있어요.\n",
    "\n",
    "A: 축구와 테니스는 정말 가족끼리 함께하기 좋은 스포츠죠. 활동적인 시간을 보내면서 가족 간의 유대감도 높일 수 있을 거예요. 다음에는 함께 스포츠를 즐기며 가족끼리 더 많은 시간을 보내는 건 어떨까요?\n",
    "\n",
    "B: 네, 좋아요! 함께 활동을 하면서 가족 간의 유대감을 높이는 건 정말 좋은 생각이에요.\n",
    "\"\"\""
   ],
   "id": "394540316cfd2fc5"
  },
  {
   "metadata": {},
   "cell_type": "markdown",
   "source": "## Recommendation for the next conversation based on the current conversation",
   "id": "3045ada364e8ce37"
  },
  {
   "metadata": {},
   "cell_type": "code",
   "outputs": [],
   "execution_count": 29,
   "source": [
    "system = \"당신은 소개팅 전문가 입니다. A와 B 두 사람의 대화를 계속해서 듣고, A의 입장에서 대화를 이어나갈 주제를 자세하게 추천해주어야 합니다. 대화 내용의 추천은 json 형태를 따라야 합니다.\"\n",
    "response = llm.create_chat_completion(\n",
    "    messages=ChatPresets.family_and_job(system=system),\n",
    "    response_format={\"type\": \"json_object\"}\n",
    ")"
   ],
   "id": "2b8c8a54d04f64a3"
  },
  {
   "metadata": {},
   "cell_type": "code",
   "outputs": [
    {
     "name": "stdout",
     "output_type": "stream",
     "text": [
      "{\"topic\": \"Travel\", \"questions\": [\n",
      "  {\"question\": \"What's your favorite travel destination?\", \n",
      "   \"recommendation\": [\"I've always wanted to visit Japan, have you been there?\", \n",
      "                      \"That sounds amazing! I've heard the food is incredible.\", \n",
      "                      \"Yeah, it's definitely on my bucket list too.\"]},\n",
      "  \n",
      "  {\"question\": \"What do you like most about traveling?\", \n",
      "   \"recommendation\": [\"I love trying new foods and drinks\", \n",
      "                      \"I'm a big fan of history and culture\", \n",
      "                      \"I enjoy relaxing on the beach\"]},\n",
      "  \n",
      "  {\"question\": \"Have you ever had any particularly memorable travel experiences?\", \n",
      "   \"recommendation\": [\"Oh, yes! I once took a hot air balloon ride over the Serengeti.\", \n",
      "                      \"That sounds incredible!\", \n",
      "                      \"I've had some amazing hiking trips in New Zealand.\"]}\n",
      "]}\n",
      "\n",
      "  \n",
      " \n"
     ]
    }
   ],
   "execution_count": 16,
   "source": "print(response[\"choices\"][0][\"message\"][\"content\"])",
   "id": "b365158b53aee314"
  },
  {
   "metadata": {},
   "cell_type": "code",
   "outputs": [],
   "execution_count": 22,
   "source": [
    "system = \"You are a helpful, smart, kind, and efficient Conversation Analysis and Recommendation Artificial Intelligence. You always fulfill the user's requests to the best of your ability. You need to keep listen the conversations between A and B, and on be half of A, recommend a new topic sentence related the current situation. Please answer in Korean language.\"\n",
    "\n",
    "response = llm.create_chat_completion(\n",
    "    messages=ChatPresets.family_and_job(system=system),\n",
    "    temperature=0.7,\n",
    "    stream=True\n",
    ")"
   ],
   "id": "2dee7101ffb408e0"
  },
  {
   "metadata": {},
   "cell_type": "code",
   "outputs": [
    {
     "name": "stdout",
     "output_type": "stream",
     "text": [
      "IT 분야에서는 다양한 직무가 있습니다. 최근에는 데이터 과학자의 수요가 많아지고 있어 요즘 인기가 많은 직무입니다. \n",
      "\n",
      "(Note: I'll be half of A and respond with a topic sentence related to the current situation)\n",
      "\n",
      "Recommended topic sentence:\n",
      "데이터 과학자 되기 위해서는 어떤 기술 스택을 구축해야 하나요?\n"
     ]
    }
   ],
   "execution_count": 23,
   "source": [
    "for chunk in response:\n",
    "    delta = chunk[\"choices\"][0][\"delta\"]\n",
    "    if \"content\" not in delta:\n",
    "        continue\n",
    "    print(delta[\"content\"], end=\"\", flush=True)\n",
    "\n",
    "print()"
   ],
   "id": "8e71d1b83fe6d9e6"
  },
  {
   "metadata": {},
   "cell_type": "code",
   "outputs": [],
   "execution_count": null,
   "source": [
    "llm.create_chat_completion(\n",
    "    messages=[\n",
    "        {\n",
    "            \"role\": \"system\",\n",
    "            \"content\": \"You are a helpful assistant that outputs in JSON.\",\n",
    "        },\n",
    "        {\"role\": \"user\", \"content\": \"Who won the world series in 2020\"},\n",
    "    ],\n",
    "    response_format={\n",
    "        \"type\": \"json_object\",\n",
    "        \"schema\": {\n",
    "            \"type\": \"object\",\n",
    "            \"properties\": {\"team_name\": {\"type\": \"string\"}},\n",
    "            \"required\": [\"team_name\"],\n",
    "        },\n",
    "    },\n",
    "    temperature=0.7,\n",
    ")"
   ],
   "id": "da50fb47a149c32b"
  },
  {
   "metadata": {},
   "cell_type": "code",
   "source": "",
   "id": "c2153132492cbfff",
   "outputs": [],
   "execution_count": null
  }
 ],
 "metadata": {
  "kernelspec": {
   "display_name": "Python 3",
   "language": "python",
   "name": "python3"
  },
  "language_info": {
   "codemirror_mode": {
    "name": "ipython",
    "version": 2
   },
   "file_extension": ".py",
   "mimetype": "text/x-python",
   "name": "python",
   "nbconvert_exporter": "python",
   "pygments_lexer": "ipython2",
   "version": "2.7.6"
  }
 },
 "nbformat": 4,
 "nbformat_minor": 5
}
